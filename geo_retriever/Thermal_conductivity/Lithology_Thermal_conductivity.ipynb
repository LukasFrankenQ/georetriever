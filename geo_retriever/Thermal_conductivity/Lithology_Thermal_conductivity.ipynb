{
 "cells": [
  {
   "cell_type": "code",
   "execution_count": 12,
   "id": "506a54a1",
   "metadata": {},
   "outputs": [],
   "source": [
    "# Import relevant packages \n",
    "\n",
    "import numpy as np\n",
    "import matplotlib.pyplot as plt\n",
    "import csv\n",
    "import pandas as pd\n",
    "import geopandas as gpd"
   ]
  },
  {
   "cell_type": "code",
   "execution_count": 76,
   "id": "d317ebd2",
   "metadata": {},
   "outputs": [
    {
     "name": "stdout",
     "output_type": "stream",
     "text": [
      "[[-9999. -9999. -9999. ... -9999. -9999. -9999.]\n",
      " [-9999. -9999. -9999. ... -9999. -9999. -9999.]\n",
      " [-9999. -9999. -9999. ... -9999. -9999. -9999.]\n",
      " ...\n",
      " [   16.    16.    16. ...    16.    16.    16.]\n",
      " [   16.    16.    16. ...    16.    16.    16.]\n",
      " [   16.    16.    16. ...    16.    16.    16.]]\n"
     ]
    },
    {
     "data": {
      "text/plain": [
       "(259200, 1)"
      ]
     },
     "execution_count": 76,
     "metadata": {},
     "output_type": "execute_result"
    }
   ],
   "source": [
    "# Call worldmap from geopandas. \n",
    "worldmap = gpd.read_file(gpd.datasets.get_path(\"naturalearth_lowres\"))\n",
    "\n",
    "# read text data files for lithology information for the world, as nparray. \n",
    "# data = pd.read_csv(\"Classnames.txt\") # holds class specifications for lithologies. \n",
    "df1 = np.loadtxt('lithology_thermal_cond.txt')\n",
    "print(df1)\n",
    "# Replace all negative values from nparray with 0. \n",
    "df = np.where(df1<0, 0, df1)\n",
    "\n",
    "#  Build a grid for the latitudes/longitudes of the earth. \n",
    "from shapely.geometry import Polygon \n",
    "from itertools import product\n",
    "\n",
    "x_vals = list(np.linspace(-180, 180, 721))\n",
    "y_vals = list(np.linspace(-90, 90, 361))\n",
    "\n",
    "geoms = [\n",
    "    Polygon([[lower_x, lower_y],\n",
    "             [lower_x, upper_y],\n",
    "             [upper_x, upper_y],\n",
    "             [upper_x, lower_y],\n",
    "             ]) \n",
    "    for (lower_x, upper_x), (lower_y, upper_y) in \n",
    "    product(\n",
    "        zip(x_vals[:-1], x_vals[1:]),\n",
    "        zip(y_vals[:-1], y_vals[1:]))]\n",
    "\n",
    "gdf = gpd.GeoDataFrame({'geometry': geoms})\n",
    "gdf.shape"
   ]
  },
  {
   "cell_type": "code",
   "execution_count": 65,
   "id": "441822ea",
   "metadata": {},
   "outputs": [
    {
     "name": "stdout",
     "output_type": "stream",
     "text": [
      "                                                 geometry  rock  lithology\n",
      "0       POLYGON ((-180.00000 -90.00000, -180.00000 -89...  16.0       16.0\n",
      "1       POLYGON ((-180.00000 -89.50000, -180.00000 -89...  16.0       16.0\n",
      "2       POLYGON ((-180.00000 -89.00000, -180.00000 -88...  16.0       16.0\n",
      "3       POLYGON ((-180.00000 -88.50000, -180.00000 -88...  16.0       16.0\n",
      "4       POLYGON ((-180.00000 -88.00000, -180.00000 -87...  16.0       16.0\n",
      "...                                                   ...   ...        ...\n",
      "259195  POLYGON ((179.50000 87.50000, 179.50000 88.000...   0.0        0.0\n",
      "259196  POLYGON ((179.50000 88.00000, 179.50000 88.500...   0.0        0.0\n",
      "259197  POLYGON ((179.50000 88.50000, 179.50000 89.000...   0.0        0.0\n",
      "259198  POLYGON ((179.50000 89.00000, 179.50000 89.500...   0.0        0.0\n",
      "259199  POLYGON ((179.50000 89.50000, 179.50000 90.000...   0.0        0.0\n",
      "\n",
      "[259200 rows x 3 columns]\n"
     ]
    }
   ],
   "source": [
    "# Checking GeoDataFrame. \n",
    "gdf.head()\n",
    "print(gdf)"
   ]
  },
  {
   "cell_type": "code",
   "execution_count": 101,
   "id": "6958e3ff",
   "metadata": {},
   "outputs": [
    {
     "name": "stdout",
     "output_type": "stream",
     "text": [
      "                  geometry  index_right  lith\n",
      "0  POINT (2.00000 5.00000)            1     2\n",
      "Basic volcanic rocks\n"
     ]
    },
    {
     "data": {
      "image/png": "[encoded data removed]",
      "text/plain": [
       "<Figure size 432x288 with 1 Axes>"
      ]
     },
     "metadata": {
      "needs_background": "light"
     },
     "output_type": "display_data"
    }
   ],
   "source": [
    "# Adding new column to GeoDataframe for all the different values of the nparray\n",
    "gdf['lithology'] = df[::-1].T.flatten()\n",
    "# The matching lithologies to the values stated in the array\n",
    "lith = [\"Unconsolidated sediments\",\"Basic volcanic rocks\",\"Siliciclastic Sedimentary rocks\",\"Basic Plutonic rocks\",\"Mixed Sedimentary rocks\",\"Carbonate sedimentary rocks\",\"Acid volcanic rocks\",\"Metamorphic rocks\",\"Acid Plutonic rocks\",\"Intermediate Volcanic R.\",\"Water bodies\",\"Pyroclastics\",\"Intermediate Plutonic R.\",\"Evaporites\",\"No-data\",\"ice and glaciers\"]\n",
    "# rock_type = [1,2,3,4,5,6,7,8,9,10,11,12,13,14,15,16][::-1]\n",
    "# Plotting the GeoDataframe lithology column showing the varying lithologies of the earth. \n",
    "gdf.plot(column='lithology')\n",
    "\n",
    "# Joining all data together to make callable. \n",
    "from shapely.geometry import Point\n",
    "\n",
    "coords = [2,5]\n",
    "\n",
    "lookup = gpd.GeoDataFrame({'geometry':[Point(coords)]})\n",
    "data = gpd.GeoDataFrame({'geometry':[\n",
    "     Polygon([[0,0],[0,3],[3,3],[3,0]]),\n",
    "     Polygon([[0,3],[0,6],[3,6],[3,3]])\n",
    "],'lith':[1,2]})\n",
    "\n",
    "looked_up = lookup.sjoin(data,how='inner')\n",
    "looked_up.head()\n",
    "print(looked_up)\n",
    "print(lith[looked_up.at[0, 'lith']-1]) # Stating the lithology type "
   ]
  }
 ],
 "metadata": {
  "kernelspec": {
   "display_name": "Python 3 (ipykernel)",
   "language": "python",
   "name": "python3"
  },
  "language_info": {
   "codemirror_mode": {
    "name": "ipython",
    "version": 3
   },
   "file_extension": ".py",
   "mimetype": "text/x-python",
   "name": "python",
   "nbconvert_exporter": "python",
   "pygments_lexer": "ipython3",
   "version": "3.9.7"
  }
 },
 "nbformat": 4,
 "nbformat_minor": 5
}
