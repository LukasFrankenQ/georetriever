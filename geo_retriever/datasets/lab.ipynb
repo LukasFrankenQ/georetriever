{
 "cells": [
  {
   "cell_type": "code",
   "execution_count": 1,
   "metadata": {},
   "outputs": [],
   "source": [
    "import os\n",
    "import sys\n",
    "\n",
    "sys.path.append(os.path.join(os.getcwd(), \"..\"))"
   ]
  },
  {
   "cell_type": "code",
   "execution_count": 2,
   "metadata": {},
   "outputs": [
    {
     "name": "stderr",
     "output_type": "stream",
     "text": [
      "c:\\Users\\s2216495\\AppData\\Local\\Programs\\Python\\Python38\\lib\\site-packages\\requests\\__init__.py:102: RequestsDependencyWarning: urllib3 (1.26.12) or chardet (5.0.0)/charset_normalizer (2.0.12) doesn't match a supported version!\n",
      "  warnings.warn(\"urllib3 ({}) or chardet ({})/charset_normalizer ({}) doesn't match a supported \"\n",
      "WARNING:root:Era 5 missing features: height\n"
     ]
    }
   ],
   "source": [
    "import os\n",
    "import warnings\n",
    "import numpy as np\n",
    "import xarray as xr\n",
    "import pandas as pd\n",
    "from tempfile import mkstemp\n",
    "import weakref\n",
    "import requests\n",
    "import logging\n",
    "from numpy import atleast_1d\n",
    "\n",
    "from gis import maybe_swap_spatial_dims\n",
    "from datasets.era5 import get_data as get_era5_data\n",
    "\n",
    "try:\n",
    "    from contextlib import nullcontext\n",
    "except ImportError:\n",
    "    import contextlib\n",
    "    \n",
    "    @contextlib.contextmanager\n",
    "    def nullcontext():\n",
    "        yield \n",
    "    "
   ]
  },
  {
   "cell_type": "code",
   "execution_count": 12,
   "metadata": {},
   "outputs": [
    {
     "name": "stderr",
     "output_type": "stream",
     "text": [
      "WARNING:data:Overwrite not yet implemented\n",
      "WARNING:root:GeoCutout.prepared is not yet fully implemented\n",
      "WARNING:root:Double download of prepared features not yet prevented\n",
      "WARNING:root:Double importing not prevented yet\n",
      "WARNING:fiona.ogrext:Skipping field liths: invalid type 1\n",
      "WARNING:fiona.ogrext:Skipping field liths: invalid type 1\n",
      "WARNING:fiona.ogrext:Skipping field liths: invalid type 1\n",
      "WARNING:fiona.ogrext:Skipping field liths: invalid type 1\n",
      "WARNING:fiona.ogrext:Skipping field liths: invalid type 1\n",
      "WARNING:fiona.ogrext:Skipping field liths: invalid type 1\n"
     ]
    },
    {
     "ename": "ValueError",
     "evalue": "unable to infer dtype on variable 'lithology'; xarray cannot serialize arbitrary Python objects",
     "output_type": "error",
     "traceback": [
      "\u001b[1;31m---------------------------------------------------------------------------\u001b[0m",
      "\u001b[1;31mValueError\u001b[0m                                Traceback (most recent call last)",
      "\u001b[1;32m~\\AppData\\Local\\Temp/ipykernel_37884/1140271493.py\u001b[0m in \u001b[0;36m<module>\u001b[1;34m\u001b[0m\n\u001b[0;32m     27\u001b[0m \u001b[1;31m# era5grid_temp = get_era5_data(gc, 'temperature')\u001b[0m\u001b[1;33m\u001b[0m\u001b[1;33m\u001b[0m\u001b[1;33m\u001b[0m\u001b[0m\n\u001b[0;32m     28\u001b[0m \u001b[1;33m\u001b[0m\u001b[0m\n\u001b[1;32m---> 29\u001b[1;33m \u001b[0mgeocutout_prepare\u001b[0m\u001b[1;33m(\u001b[0m\u001b[0mgc\u001b[0m\u001b[1;33m,\u001b[0m \u001b[0mfeatures\u001b[0m\u001b[1;33m=\u001b[0m\u001b[1;33m[\u001b[0m\u001b[1;34m\"lithology\"\u001b[0m\u001b[1;33m]\u001b[0m\u001b[1;33m)\u001b[0m\u001b[1;33m\u001b[0m\u001b[1;33m\u001b[0m\u001b[0m\n\u001b[0m\u001b[0;32m     30\u001b[0m \u001b[1;31m# geocutout_prepare(gc, features=[\"temperature\"])\u001b[0m\u001b[1;33m\u001b[0m\u001b[1;33m\u001b[0m\u001b[1;33m\u001b[0m\u001b[0m\n",
      "\u001b[1;32mc:\\Users\\s2216495\\Desktop\\hackathon\\retrieve_geo\\geo_retriever\\datasets\\..\\data.py\u001b[0m in \u001b[0;36mwrapper\u001b[1;34m(*args, **kwargs)\u001b[0m\n\u001b[0;32m     63\u001b[0m             \u001b[0mkwargs\u001b[0m\u001b[1;33m[\u001b[0m\u001b[1;34m\"tmpdir\"\u001b[0m\u001b[1;33m]\u001b[0m \u001b[1;33m=\u001b[0m \u001b[0mmkdtemp\u001b[0m\u001b[1;33m(\u001b[0m\u001b[1;33m)\u001b[0m\u001b[1;33m\u001b[0m\u001b[1;33m\u001b[0m\u001b[0m\n\u001b[0;32m     64\u001b[0m             \u001b[1;32mtry\u001b[0m\u001b[1;33m:\u001b[0m\u001b[1;33m\u001b[0m\u001b[1;33m\u001b[0m\u001b[0m\n\u001b[1;32m---> 65\u001b[1;33m                 \u001b[0mres\u001b[0m \u001b[1;33m=\u001b[0m \u001b[0mfunc\u001b[0m\u001b[1;33m(\u001b[0m\u001b[1;33m*\u001b[0m\u001b[0margs\u001b[0m\u001b[1;33m,\u001b[0m \u001b[1;33m**\u001b[0m\u001b[0mkwargs\u001b[0m\u001b[1;33m)\u001b[0m\u001b[1;33m\u001b[0m\u001b[1;33m\u001b[0m\u001b[0m\n\u001b[0m\u001b[0;32m     66\u001b[0m             \u001b[1;32mfinally\u001b[0m\u001b[1;33m:\u001b[0m\u001b[1;33m\u001b[0m\u001b[1;33m\u001b[0m\u001b[0m\n\u001b[0;32m     67\u001b[0m                 \u001b[0mrmtree\u001b[0m\u001b[1;33m(\u001b[0m\u001b[0mkwargs\u001b[0m\u001b[1;33m[\u001b[0m\u001b[1;34m\"tmpdir\"\u001b[0m\u001b[1;33m]\u001b[0m\u001b[1;33m)\u001b[0m\u001b[1;33m\u001b[0m\u001b[1;33m\u001b[0m\u001b[0m\n",
      "\u001b[1;32mc:\\Users\\s2216495\\Desktop\\hackathon\\retrieve_geo\\geo_retriever\\datasets\\..\\data.py\u001b[0m in \u001b[0;36mgeocutout_prepare\u001b[1;34m(geocutout, features, tmpdir, overwrite)\u001b[0m\n\u001b[0;32m    145\u001b[0m \u001b[1;33m\u001b[0m\u001b[0m\n\u001b[0;32m    146\u001b[0m         \u001b[1;32mwith\u001b[0m \u001b[0mProgressBar\u001b[0m\u001b[1;33m(\u001b[0m\u001b[1;33m)\u001b[0m\u001b[1;33m:\u001b[0m\u001b[1;33m\u001b[0m\u001b[1;33m\u001b[0m\u001b[0m\n\u001b[1;32m--> 147\u001b[1;33m             \u001b[0mds\u001b[0m\u001b[1;33m.\u001b[0m\u001b[0mto_netcdf\u001b[0m\u001b[1;33m(\u001b[0m\u001b[0mtmp\u001b[0m\u001b[1;33m)\u001b[0m\u001b[1;33m\u001b[0m\u001b[1;33m\u001b[0m\u001b[0m\n\u001b[0m\u001b[0;32m    148\u001b[0m \u001b[1;33m\u001b[0m\u001b[0m\n\u001b[0;32m    149\u001b[0m         \u001b[1;32mif\u001b[0m \u001b[0mgeocutout\u001b[0m\u001b[1;33m.\u001b[0m\u001b[0mpath\u001b[0m\u001b[1;33m.\u001b[0m\u001b[0mexists\u001b[0m\u001b[1;33m(\u001b[0m\u001b[1;33m)\u001b[0m\u001b[1;33m:\u001b[0m\u001b[1;33m\u001b[0m\u001b[1;33m\u001b[0m\u001b[0m\n",
      "\u001b[1;32mc:\\Users\\s2216495\\AppData\\Local\\Programs\\Python\\Python38\\lib\\site-packages\\xarray\\core\\dataset.py\u001b[0m in \u001b[0;36mto_netcdf\u001b[1;34m(self, path, mode, format, group, engine, encoding, unlimited_dims, compute, invalid_netcdf)\u001b[0m\n\u001b[0;32m   1897\u001b[0m         \u001b[1;32mfrom\u001b[0m \u001b[1;33m.\u001b[0m\u001b[1;33m.\u001b[0m\u001b[0mbackends\u001b[0m\u001b[1;33m.\u001b[0m\u001b[0mapi\u001b[0m \u001b[1;32mimport\u001b[0m \u001b[0mto_netcdf\u001b[0m\u001b[1;33m\u001b[0m\u001b[1;33m\u001b[0m\u001b[0m\n\u001b[0;32m   1898\u001b[0m \u001b[1;33m\u001b[0m\u001b[0m\n\u001b[1;32m-> 1899\u001b[1;33m         return to_netcdf(  # type: ignore  # mypy cannot resolve the overloads:(\n\u001b[0m\u001b[0;32m   1900\u001b[0m             \u001b[0mself\u001b[0m\u001b[1;33m,\u001b[0m\u001b[1;33m\u001b[0m\u001b[1;33m\u001b[0m\u001b[0m\n\u001b[0;32m   1901\u001b[0m             \u001b[0mpath\u001b[0m\u001b[1;33m,\u001b[0m\u001b[1;33m\u001b[0m\u001b[1;33m\u001b[0m\u001b[0m\n",
      "\u001b[1;32mc:\\Users\\s2216495\\AppData\\Local\\Programs\\Python\\Python38\\lib\\site-packages\\xarray\\backends\\api.py\u001b[0m in \u001b[0;36mto_netcdf\u001b[1;34m(dataset, path_or_file, mode, format, group, engine, encoding, unlimited_dims, compute, multifile, invalid_netcdf)\u001b[0m\n\u001b[0;32m   1228\u001b[0m         \u001b[1;31m# TODO: allow this work (setting up the file for writing array data)\u001b[0m\u001b[1;33m\u001b[0m\u001b[1;33m\u001b[0m\u001b[1;33m\u001b[0m\u001b[0m\n\u001b[0;32m   1229\u001b[0m         \u001b[1;31m# to be parallelized with dask\u001b[0m\u001b[1;33m\u001b[0m\u001b[1;33m\u001b[0m\u001b[1;33m\u001b[0m\u001b[0m\n\u001b[1;32m-> 1230\u001b[1;33m         dump_to_store(\n\u001b[0m\u001b[0;32m   1231\u001b[0m             \u001b[0mdataset\u001b[0m\u001b[1;33m,\u001b[0m \u001b[0mstore\u001b[0m\u001b[1;33m,\u001b[0m \u001b[0mwriter\u001b[0m\u001b[1;33m,\u001b[0m \u001b[0mencoding\u001b[0m\u001b[1;33m=\u001b[0m\u001b[0mencoding\u001b[0m\u001b[1;33m,\u001b[0m \u001b[0munlimited_dims\u001b[0m\u001b[1;33m=\u001b[0m\u001b[0munlimited_dims\u001b[0m\u001b[1;33m\u001b[0m\u001b[1;33m\u001b[0m\u001b[0m\n\u001b[0;32m   1232\u001b[0m         )\n",
      "\u001b[1;32mc:\\Users\\s2216495\\AppData\\Local\\Programs\\Python\\Python38\\lib\\site-packages\\xarray\\backends\\api.py\u001b[0m in \u001b[0;36mdump_to_store\u001b[1;34m(dataset, store, writer, encoder, encoding, unlimited_dims)\u001b[0m\n\u001b[0;32m   1275\u001b[0m         \u001b[0mvariables\u001b[0m\u001b[1;33m,\u001b[0m \u001b[0mattrs\u001b[0m \u001b[1;33m=\u001b[0m \u001b[0mencoder\u001b[0m\u001b[1;33m(\u001b[0m\u001b[0mvariables\u001b[0m\u001b[1;33m,\u001b[0m \u001b[0mattrs\u001b[0m\u001b[1;33m)\u001b[0m\u001b[1;33m\u001b[0m\u001b[1;33m\u001b[0m\u001b[0m\n\u001b[0;32m   1276\u001b[0m \u001b[1;33m\u001b[0m\u001b[0m\n\u001b[1;32m-> 1277\u001b[1;33m     \u001b[0mstore\u001b[0m\u001b[1;33m.\u001b[0m\u001b[0mstore\u001b[0m\u001b[1;33m(\u001b[0m\u001b[0mvariables\u001b[0m\u001b[1;33m,\u001b[0m \u001b[0mattrs\u001b[0m\u001b[1;33m,\u001b[0m \u001b[0mcheck_encoding\u001b[0m\u001b[1;33m,\u001b[0m \u001b[0mwriter\u001b[0m\u001b[1;33m,\u001b[0m \u001b[0munlimited_dims\u001b[0m\u001b[1;33m=\u001b[0m\u001b[0munlimited_dims\u001b[0m\u001b[1;33m)\u001b[0m\u001b[1;33m\u001b[0m\u001b[1;33m\u001b[0m\u001b[0m\n\u001b[0m\u001b[0;32m   1278\u001b[0m \u001b[1;33m\u001b[0m\u001b[0m\n\u001b[0;32m   1279\u001b[0m \u001b[1;33m\u001b[0m\u001b[0m\n",
      "\u001b[1;32mc:\\Users\\s2216495\\AppData\\Local\\Programs\\Python\\Python38\\lib\\site-packages\\xarray\\backends\\common.py\u001b[0m in \u001b[0;36mstore\u001b[1;34m(self, variables, attributes, check_encoding_set, writer, unlimited_dims)\u001b[0m\n\u001b[0;32m    264\u001b[0m             \u001b[0mwriter\u001b[0m \u001b[1;33m=\u001b[0m \u001b[0mArrayWriter\u001b[0m\u001b[1;33m(\u001b[0m\u001b[1;33m)\u001b[0m\u001b[1;33m\u001b[0m\u001b[1;33m\u001b[0m\u001b[0m\n\u001b[0;32m    265\u001b[0m \u001b[1;33m\u001b[0m\u001b[0m\n\u001b[1;32m--> 266\u001b[1;33m         \u001b[0mvariables\u001b[0m\u001b[1;33m,\u001b[0m \u001b[0mattributes\u001b[0m \u001b[1;33m=\u001b[0m \u001b[0mself\u001b[0m\u001b[1;33m.\u001b[0m\u001b[0mencode\u001b[0m\u001b[1;33m(\u001b[0m\u001b[0mvariables\u001b[0m\u001b[1;33m,\u001b[0m \u001b[0mattributes\u001b[0m\u001b[1;33m)\u001b[0m\u001b[1;33m\u001b[0m\u001b[1;33m\u001b[0m\u001b[0m\n\u001b[0m\u001b[0;32m    267\u001b[0m \u001b[1;33m\u001b[0m\u001b[0m\n\u001b[0;32m    268\u001b[0m         \u001b[0mself\u001b[0m\u001b[1;33m.\u001b[0m\u001b[0mset_attributes\u001b[0m\u001b[1;33m(\u001b[0m\u001b[0mattributes\u001b[0m\u001b[1;33m)\u001b[0m\u001b[1;33m\u001b[0m\u001b[1;33m\u001b[0m\u001b[0m\n",
      "\u001b[1;32mc:\\Users\\s2216495\\AppData\\Local\\Programs\\Python\\Python38\\lib\\site-packages\\xarray\\backends\\common.py\u001b[0m in \u001b[0;36mencode\u001b[1;34m(self, variables, attributes)\u001b[0m\n\u001b[0;32m    353\u001b[0m         \u001b[1;31m# All NetCDF files get CF encoded by default, without this attempting\u001b[0m\u001b[1;33m\u001b[0m\u001b[1;33m\u001b[0m\u001b[1;33m\u001b[0m\u001b[0m\n\u001b[0;32m    354\u001b[0m         \u001b[1;31m# to write times, for example, would fail.\u001b[0m\u001b[1;33m\u001b[0m\u001b[1;33m\u001b[0m\u001b[1;33m\u001b[0m\u001b[0m\n\u001b[1;32m--> 355\u001b[1;33m         \u001b[0mvariables\u001b[0m\u001b[1;33m,\u001b[0m \u001b[0mattributes\u001b[0m \u001b[1;33m=\u001b[0m \u001b[0mcf_encoder\u001b[0m\u001b[1;33m(\u001b[0m\u001b[0mvariables\u001b[0m\u001b[1;33m,\u001b[0m \u001b[0mattributes\u001b[0m\u001b[1;33m)\u001b[0m\u001b[1;33m\u001b[0m\u001b[1;33m\u001b[0m\u001b[0m\n\u001b[0m\u001b[0;32m    356\u001b[0m         \u001b[0mvariables\u001b[0m \u001b[1;33m=\u001b[0m \u001b[1;33m{\u001b[0m\u001b[0mk\u001b[0m\u001b[1;33m:\u001b[0m \u001b[0mself\u001b[0m\u001b[1;33m.\u001b[0m\u001b[0mencode_variable\u001b[0m\u001b[1;33m(\u001b[0m\u001b[0mv\u001b[0m\u001b[1;33m)\u001b[0m \u001b[1;32mfor\u001b[0m \u001b[0mk\u001b[0m\u001b[1;33m,\u001b[0m \u001b[0mv\u001b[0m \u001b[1;32min\u001b[0m \u001b[0mvariables\u001b[0m\u001b[1;33m.\u001b[0m\u001b[0mitems\u001b[0m\u001b[1;33m(\u001b[0m\u001b[1;33m)\u001b[0m\u001b[1;33m}\u001b[0m\u001b[1;33m\u001b[0m\u001b[1;33m\u001b[0m\u001b[0m\n\u001b[0;32m    357\u001b[0m         \u001b[0mattributes\u001b[0m \u001b[1;33m=\u001b[0m \u001b[1;33m{\u001b[0m\u001b[0mk\u001b[0m\u001b[1;33m:\u001b[0m \u001b[0mself\u001b[0m\u001b[1;33m.\u001b[0m\u001b[0mencode_attribute\u001b[0m\u001b[1;33m(\u001b[0m\u001b[0mv\u001b[0m\u001b[1;33m)\u001b[0m \u001b[1;32mfor\u001b[0m \u001b[0mk\u001b[0m\u001b[1;33m,\u001b[0m \u001b[0mv\u001b[0m \u001b[1;32min\u001b[0m \u001b[0mattributes\u001b[0m\u001b[1;33m.\u001b[0m\u001b[0mitems\u001b[0m\u001b[1;33m(\u001b[0m\u001b[1;33m)\u001b[0m\u001b[1;33m}\u001b[0m\u001b[1;33m\u001b[0m\u001b[1;33m\u001b[0m\u001b[0m\n",
      "\u001b[1;32mc:\\Users\\s2216495\\AppData\\Local\\Programs\\Python\\Python38\\lib\\site-packages\\xarray\\conventions.py\u001b[0m in \u001b[0;36mcf_encoder\u001b[1;34m(variables, attributes)\u001b[0m\n\u001b[0;32m    866\u001b[0m     \u001b[0m_update_bounds_encoding\u001b[0m\u001b[1;33m(\u001b[0m\u001b[0mvariables\u001b[0m\u001b[1;33m)\u001b[0m\u001b[1;33m\u001b[0m\u001b[1;33m\u001b[0m\u001b[0m\n\u001b[0;32m    867\u001b[0m \u001b[1;33m\u001b[0m\u001b[0m\n\u001b[1;32m--> 868\u001b[1;33m     \u001b[0mnew_vars\u001b[0m \u001b[1;33m=\u001b[0m \u001b[1;33m{\u001b[0m\u001b[0mk\u001b[0m\u001b[1;33m:\u001b[0m \u001b[0mencode_cf_variable\u001b[0m\u001b[1;33m(\u001b[0m\u001b[0mv\u001b[0m\u001b[1;33m,\u001b[0m \u001b[0mname\u001b[0m\u001b[1;33m=\u001b[0m\u001b[0mk\u001b[0m\u001b[1;33m)\u001b[0m \u001b[1;32mfor\u001b[0m \u001b[0mk\u001b[0m\u001b[1;33m,\u001b[0m \u001b[0mv\u001b[0m \u001b[1;32min\u001b[0m \u001b[0mvariables\u001b[0m\u001b[1;33m.\u001b[0m\u001b[0mitems\u001b[0m\u001b[1;33m(\u001b[0m\u001b[1;33m)\u001b[0m\u001b[1;33m}\u001b[0m\u001b[1;33m\u001b[0m\u001b[1;33m\u001b[0m\u001b[0m\n\u001b[0m\u001b[0;32m    869\u001b[0m \u001b[1;33m\u001b[0m\u001b[0m\n\u001b[0;32m    870\u001b[0m     \u001b[1;31m# Remove attrs from bounds variables (issue #2921)\u001b[0m\u001b[1;33m\u001b[0m\u001b[1;33m\u001b[0m\u001b[1;33m\u001b[0m\u001b[0m\n",
      "\u001b[1;32mc:\\Users\\s2216495\\AppData\\Local\\Programs\\Python\\Python38\\lib\\site-packages\\xarray\\conventions.py\u001b[0m in \u001b[0;36m<dictcomp>\u001b[1;34m(.0)\u001b[0m\n\u001b[0;32m    866\u001b[0m     \u001b[0m_update_bounds_encoding\u001b[0m\u001b[1;33m(\u001b[0m\u001b[0mvariables\u001b[0m\u001b[1;33m)\u001b[0m\u001b[1;33m\u001b[0m\u001b[1;33m\u001b[0m\u001b[0m\n\u001b[0;32m    867\u001b[0m \u001b[1;33m\u001b[0m\u001b[0m\n\u001b[1;32m--> 868\u001b[1;33m     \u001b[0mnew_vars\u001b[0m \u001b[1;33m=\u001b[0m \u001b[1;33m{\u001b[0m\u001b[0mk\u001b[0m\u001b[1;33m:\u001b[0m \u001b[0mencode_cf_variable\u001b[0m\u001b[1;33m(\u001b[0m\u001b[0mv\u001b[0m\u001b[1;33m,\u001b[0m \u001b[0mname\u001b[0m\u001b[1;33m=\u001b[0m\u001b[0mk\u001b[0m\u001b[1;33m)\u001b[0m \u001b[1;32mfor\u001b[0m \u001b[0mk\u001b[0m\u001b[1;33m,\u001b[0m \u001b[0mv\u001b[0m \u001b[1;32min\u001b[0m \u001b[0mvariables\u001b[0m\u001b[1;33m.\u001b[0m\u001b[0mitems\u001b[0m\u001b[1;33m(\u001b[0m\u001b[1;33m)\u001b[0m\u001b[1;33m}\u001b[0m\u001b[1;33m\u001b[0m\u001b[1;33m\u001b[0m\u001b[0m\n\u001b[0m\u001b[0;32m    869\u001b[0m \u001b[1;33m\u001b[0m\u001b[0m\n\u001b[0;32m    870\u001b[0m     \u001b[1;31m# Remove attrs from bounds variables (issue #2921)\u001b[0m\u001b[1;33m\u001b[0m\u001b[1;33m\u001b[0m\u001b[1;33m\u001b[0m\u001b[0m\n",
      "\u001b[1;32mc:\\Users\\s2216495\\AppData\\Local\\Programs\\Python\\Python38\\lib\\site-packages\\xarray\\conventions.py\u001b[0m in \u001b[0;36mencode_cf_variable\u001b[1;34m(var, needs_copy, name)\u001b[0m\n\u001b[0;32m    277\u001b[0m     \u001b[0mvar\u001b[0m \u001b[1;33m=\u001b[0m \u001b[0mmaybe_default_fill_value\u001b[0m\u001b[1;33m(\u001b[0m\u001b[0mvar\u001b[0m\u001b[1;33m)\u001b[0m\u001b[1;33m\u001b[0m\u001b[1;33m\u001b[0m\u001b[0m\n\u001b[0;32m    278\u001b[0m     \u001b[0mvar\u001b[0m \u001b[1;33m=\u001b[0m \u001b[0mmaybe_encode_bools\u001b[0m\u001b[1;33m(\u001b[0m\u001b[0mvar\u001b[0m\u001b[1;33m)\u001b[0m\u001b[1;33m\u001b[0m\u001b[1;33m\u001b[0m\u001b[0m\n\u001b[1;32m--> 279\u001b[1;33m     \u001b[0mvar\u001b[0m \u001b[1;33m=\u001b[0m \u001b[0mensure_dtype_not_object\u001b[0m\u001b[1;33m(\u001b[0m\u001b[0mvar\u001b[0m\u001b[1;33m,\u001b[0m \u001b[0mname\u001b[0m\u001b[1;33m=\u001b[0m\u001b[0mname\u001b[0m\u001b[1;33m)\u001b[0m\u001b[1;33m\u001b[0m\u001b[1;33m\u001b[0m\u001b[0m\n\u001b[0m\u001b[0;32m    280\u001b[0m \u001b[1;33m\u001b[0m\u001b[0m\n\u001b[0;32m    281\u001b[0m     \u001b[1;32mfor\u001b[0m \u001b[0mattr_name\u001b[0m \u001b[1;32min\u001b[0m \u001b[0mCF_RELATED_DATA\u001b[0m\u001b[1;33m:\u001b[0m\u001b[1;33m\u001b[0m\u001b[1;33m\u001b[0m\u001b[0m\n",
      "\u001b[1;32mc:\\Users\\s2216495\\AppData\\Local\\Programs\\Python\\Python38\\lib\\site-packages\\xarray\\conventions.py\u001b[0m in \u001b[0;36mensure_dtype_not_object\u001b[1;34m(var, name)\u001b[0m\n\u001b[0;32m    235\u001b[0m             \u001b[0mdata\u001b[0m\u001b[1;33m[\u001b[0m\u001b[0mmissing\u001b[0m\u001b[1;33m]\u001b[0m \u001b[1;33m=\u001b[0m \u001b[0mfill_value\u001b[0m\u001b[1;33m\u001b[0m\u001b[1;33m\u001b[0m\u001b[0m\n\u001b[0;32m    236\u001b[0m         \u001b[1;32melse\u001b[0m\u001b[1;33m:\u001b[0m\u001b[1;33m\u001b[0m\u001b[1;33m\u001b[0m\u001b[0m\n\u001b[1;32m--> 237\u001b[1;33m             \u001b[0mdata\u001b[0m \u001b[1;33m=\u001b[0m \u001b[0m_copy_with_dtype\u001b[0m\u001b[1;33m(\u001b[0m\u001b[0mdata\u001b[0m\u001b[1;33m,\u001b[0m \u001b[0mdtype\u001b[0m\u001b[1;33m=\u001b[0m\u001b[0m_infer_dtype\u001b[0m\u001b[1;33m(\u001b[0m\u001b[0mdata\u001b[0m\u001b[1;33m,\u001b[0m \u001b[0mname\u001b[0m\u001b[1;33m)\u001b[0m\u001b[1;33m)\u001b[0m\u001b[1;33m\u001b[0m\u001b[1;33m\u001b[0m\u001b[0m\n\u001b[0m\u001b[0;32m    238\u001b[0m \u001b[1;33m\u001b[0m\u001b[0m\n\u001b[0;32m    239\u001b[0m         \u001b[1;32massert\u001b[0m \u001b[0mdata\u001b[0m\u001b[1;33m.\u001b[0m\u001b[0mdtype\u001b[0m\u001b[1;33m.\u001b[0m\u001b[0mkind\u001b[0m \u001b[1;33m!=\u001b[0m \u001b[1;34m\"O\"\u001b[0m \u001b[1;32mor\u001b[0m \u001b[0mdata\u001b[0m\u001b[1;33m.\u001b[0m\u001b[0mdtype\u001b[0m\u001b[1;33m.\u001b[0m\u001b[0mmetadata\u001b[0m\u001b[1;33m\u001b[0m\u001b[1;33m\u001b[0m\u001b[0m\n",
      "\u001b[1;32mc:\\Users\\s2216495\\AppData\\Local\\Programs\\Python\\Python38\\lib\\site-packages\\xarray\\conventions.py\u001b[0m in \u001b[0;36m_infer_dtype\u001b[1;34m(array, name)\u001b[0m\n\u001b[0;32m    169\u001b[0m         \u001b[1;32mreturn\u001b[0m \u001b[0mdtype\u001b[0m\u001b[1;33m\u001b[0m\u001b[1;33m\u001b[0m\u001b[0m\n\u001b[0;32m    170\u001b[0m \u001b[1;33m\u001b[0m\u001b[0m\n\u001b[1;32m--> 171\u001b[1;33m     raise ValueError(\n\u001b[0m\u001b[0;32m    172\u001b[0m         \u001b[1;34m\"unable to infer dtype on variable {!r}; xarray \"\u001b[0m\u001b[1;33m\u001b[0m\u001b[1;33m\u001b[0m\u001b[0m\n\u001b[0;32m    173\u001b[0m         \u001b[1;34m\"cannot serialize arbitrary Python objects\"\u001b[0m\u001b[1;33m.\u001b[0m\u001b[0mformat\u001b[0m\u001b[1;33m(\u001b[0m\u001b[0mname\u001b[0m\u001b[1;33m)\u001b[0m\u001b[1;33m\u001b[0m\u001b[1;33m\u001b[0m\u001b[0m\n",
      "\u001b[1;31mValueError\u001b[0m: unable to infer dtype on variable 'lithology'; xarray cannot serialize arbitrary Python objects"
     ]
    }
   ],
   "source": [
    "from geo_cutout import GeoCutout\n",
    "from data import geocutout_prepare\n",
    "    \n",
    "x_start = 0\n",
    "x_stop = 1\n",
    "y_start = 50\n",
    "y_stop = 51\n",
    "dx = 0.1\n",
    "dy = 0.1\n",
    "time = '2019-01-01'\n",
    "dt = \"H\"\n",
    "module = \"macrostrat\"\n",
    "\n",
    "\n",
    "x = slice(*sorted([x_start, x_stop]))\n",
    "y = slice(*sorted([y_start, y_stop]))\n",
    "\n",
    "gc = GeoCutout('result.netcdf', \n",
    "               x=x, \n",
    "               y=y,\n",
    "               dx=dx,\n",
    "               dy=dy,\n",
    "               time=time, \n",
    "               dt=dt,\n",
    "               )\n",
    "# litgrid = get_lith_data(gc, 'lithology')\n",
    "# era5grid_temp = get_era5_data(gc, 'temperature')\n",
    "\n",
    "geocutout_prepare(gc, features=[\"lithology\"])\n",
    "# geocutout_prepare(gc, features=[\"temperature\"])"
   ]
  },
  {
   "cell_type": "code",
   "execution_count": 7,
   "metadata": {},
   "outputs": [],
   "source": [
    "temp = gc.data[\"temperature\"].to_numpy()"
   ]
  },
  {
   "cell_type": "code",
   "execution_count": 9,
   "metadata": {},
   "outputs": [
    {
     "data": {
      "text/plain": [
       "(24, 9, 9)"
      ]
     },
     "execution_count": 9,
     "metadata": {},
     "output_type": "execute_result"
    }
   ],
   "source": [
    "temp = "
   ]
  },
  {
   "cell_type": "code",
   "execution_count": 3,
   "metadata": {},
   "outputs": [],
   "source": [
    "import os\n",
    "import sys\n",
    "\n",
    "sys.path.append(os.path.join(os.getcwd(), \"..\"))"
   ]
  },
  {
   "cell_type": "code",
   "execution_count": 3,
   "metadata": {},
   "outputs": [],
   "source": []
  },
  {
   "cell_type": "code",
   "execution_count": 13,
   "metadata": {},
   "outputs": [
    {
     "name": "stderr",
     "output_type": "stream",
     "text": [
      "WARNING:fiona.ogrext:Skipping field liths: invalid type 1\n",
      "WARNING:fiona.ogrext:Skipping field liths: invalid type 1\n",
      "WARNING:fiona.ogrext:Skipping field liths: invalid type 1\n",
      "WARNING:fiona.ogrext:Skipping field liths: invalid type 1\n",
      "WARNING:fiona.ogrext:Skipping field liths: invalid type 1\n",
      "WARNING:fiona.ogrext:Skipping field liths: invalid type 1\n",
      "WARNING:fiona.ogrext:Skipping field liths: invalid type 1\n",
      "WARNING:fiona.ogrext:Skipping field liths: invalid type 1\n",
      "WARNING:fiona.ogrext:Skipping field liths: invalid type 1\n",
      "WARNING:fiona.ogrext:Skipping field liths: invalid type 1\n",
      "WARNING:fiona.ogrext:Skipping field liths: invalid type 1\n",
      "WARNING:fiona.ogrext:Skipping field liths: invalid type 1\n",
      "WARNING:fiona.ogrext:Skipping field liths: invalid type 1\n",
      "WARNING:fiona.ogrext:Skipping field liths: invalid type 1\n",
      "WARNING:fiona.ogrext:Skipping field liths: invalid type 1\n",
      "WARNING:fiona.ogrext:Skipping field liths: invalid type 1\n",
      "WARNING:fiona.ogrext:Skipping field liths: invalid type 1\n",
      "WARNING:fiona.ogrext:Skipping field liths: invalid type 1\n",
      "WARNING:fiona.ogrext:Skipping field liths: invalid type 1\n",
      "WARNING:fiona.ogrext:Skipping field liths: invalid type 1\n",
      "WARNING:fiona.ogrext:Skipping field liths: invalid type 1\n",
      "WARNING:fiona.ogrext:Skipping field liths: invalid type 1\n",
      "WARNING:fiona.ogrext:Skipping field liths: invalid type 1\n",
      "WARNING:fiona.ogrext:Skipping field strat_names: invalid type 1\n",
      "WARNING:fiona.ogrext:Skipping field liths: invalid type 1\n",
      "WARNING:fiona.ogrext:Skipping field liths: invalid type 1\n",
      "WARNING:fiona.ogrext:Skipping field liths: invalid type 1\n",
      "WARNING:fiona.ogrext:Skipping field liths: invalid type 1\n",
      "WARNING:fiona.ogrext:Skipping field liths: invalid type 1\n",
      "WARNING:fiona.ogrext:Skipping field liths: invalid type 1\n",
      "WARNING:fiona.ogrext:Skipping field liths: invalid type 1\n",
      "WARNING:fiona.ogrext:Skipping field strat_names: invalid type 1\n",
      "WARNING:fiona.ogrext:Skipping field liths: invalid type 1\n",
      "WARNING:fiona.ogrext:Skipping field strat_names: invalid type 1\n",
      "WARNING:fiona.ogrext:Skipping field liths: invalid type 1\n",
      "WARNING:fiona.ogrext:Skipping field strat_names: invalid type 1\n",
      "WARNING:fiona.ogrext:Skipping field liths: invalid type 1\n",
      "WARNING:fiona.ogrext:Skipping field liths: invalid type 1\n",
      "WARNING:fiona.ogrext:Skipping field liths: invalid type 1\n",
      "WARNING:fiona.ogrext:Skipping field liths: invalid type 1\n",
      "WARNING:fiona.ogrext:Skipping field liths: invalid type 1\n",
      "WARNING:fiona.ogrext:Skipping field liths: invalid type 1\n",
      "WARNING:fiona.ogrext:Skipping field liths: invalid type 1\n",
      "WARNING:fiona.ogrext:Skipping field liths: invalid type 1\n",
      "WARNING:fiona.ogrext:Skipping field liths: invalid type 1\n",
      "WARNING:fiona.ogrext:Skipping field strat_names: invalid type 1\n",
      "WARNING:fiona.ogrext:Skipping field liths: invalid type 1\n",
      "WARNING:fiona.ogrext:Skipping field liths: invalid type 1\n",
      "WARNING:fiona.ogrext:Skipping field strat_names: invalid type 1\n",
      "WARNING:fiona.ogrext:Skipping field liths: invalid type 1\n",
      "WARNING:fiona.ogrext:Skipping field liths: invalid type 1\n",
      "WARNING:fiona.ogrext:Skipping field strat_names: invalid type 1\n",
      "WARNING:fiona.ogrext:Skipping field liths: invalid type 1\n",
      "WARNING:fiona.ogrext:Skipping field liths: invalid type 1\n",
      "WARNING:fiona.ogrext:Skipping field liths: invalid type 1\n",
      "WARNING:fiona.ogrext:Skipping field liths: invalid type 1\n",
      "WARNING:fiona.ogrext:Skipping field strat_names: invalid type 1\n",
      "WARNING:fiona.ogrext:Skipping field liths: invalid type 1\n",
      "WARNING:fiona.ogrext:Skipping field strat_names: invalid type 1\n",
      "WARNING:fiona.ogrext:Skipping field liths: invalid type 1\n",
      "WARNING:fiona.ogrext:Skipping field strat_names: invalid type 1\n",
      "WARNING:fiona.ogrext:Skipping field liths: invalid type 1\n",
      "WARNING:fiona.ogrext:Skipping field strat_names: invalid type 1\n",
      "WARNING:fiona.ogrext:Skipping field liths: invalid type 1\n",
      "WARNING:fiona.ogrext:Skipping field liths: invalid type 1\n",
      "WARNING:fiona.ogrext:Skipping field liths: invalid type 1\n",
      "WARNING:fiona.ogrext:Skipping field liths: invalid type 1\n",
      "WARNING:fiona.ogrext:Skipping field liths: invalid type 1\n",
      "WARNING:fiona.ogrext:Skipping field strat_names: invalid type 1\n",
      "WARNING:fiona.ogrext:Skipping field liths: invalid type 1\n"
     ]
    }
   ],
   "source": [
    "import geopandas as gpd\n",
    "from io import StringIO\n",
    "\n",
    "from geo_cutout import GeoCutout\n",
    "from data import geocutout_prepare\n",
    "\n",
    "x_start = -1.4\n",
    "x_stop = 0.6\n",
    "y_start = 49.8\n",
    "y_stop = 51.8\n",
    "dx = 0.01\n",
    "dy = 0.01\n",
    "time = '2019-01-01'\n",
    "dt = \"H\"\n",
    "module = \"macrostrat\"\n",
    "\n",
    "\n",
    "x = slice(*sorted([x_start, x_stop]))\n",
    "y = slice(*sorted([y_start, y_stop]))\n",
    "\n",
    "geocutout = GeoCutout('result.netcdf', \n",
    "               x=x,\n",
    "               y=y,\n",
    "               dx=dx,\n",
    "               dy=dy,\n",
    "               time=time,\n",
    "               dt=dt,\n",
    "               )\n",
    "lith = get_data(geocutout, 'lit')"
   ]
  },
  {
   "cell_type": "code",
   "execution_count": 27,
   "metadata": {},
   "outputs": [
    {
     "name": "stdout",
     "output_type": "stream",
     "text": [
      "Coordinates:\n",
      "  * x        (x) float64 -1.4 -1.39 -1.38 -1.37 -1.36 ... 0.57 0.58 0.59 0.6\n",
      "  * y        (y) float64 49.8 49.81 49.82 49.83 49.84 ... 51.77 51.78 51.79 51.8\n",
      "    lon      (x) float64 -1.4 -1.39 -1.38 -1.37 -1.36 ... 0.57 0.58 0.59 0.6\n",
      "    lat      (y) float64 49.8 49.81 49.82 49.83 49.84 ... 51.77 51.78 51.79 51.8\n"
     ]
    },
    {
     "data": {
      "image/png": "[encoded data removed]",
      "text/plain": [
       "<Figure size 1152x1152 with 1 Axes>"
      ]
     },
     "metadata": {
      "needs_background": "light"
     },
     "output_type": "display_data"
    }
   ],
   "source": [
    "\n",
    "# print(lith[\"lithology\"].coords[\"x\"].to_numpy())\n",
    "plot_lith(lith[\"lithology\"])"
   ]
  },
  {
   "cell_type": "code",
   "execution_count": 10,
   "metadata": {},
   "outputs": [
    {
     "name": "stderr",
     "output_type": "stream",
     "text": [
      "0it [00:00, ?it/s]WARNING:fiona.ogrext:Skipping field liths: invalid type 1\n",
      "1it [00:00,  1.25it/s]WARNING:fiona.ogrext:Skipping field liths: invalid type 1\n",
      "3it [00:02,  1.23it/s]WARNING:fiona.ogrext:Skipping field liths: invalid type 1\n",
      "4it [00:03,  1.26it/s]WARNING:fiona.ogrext:Skipping field liths: invalid type 1\n",
      "5it [00:03,  1.30it/s]WARNING:fiona.ogrext:Skipping field liths: invalid type 1\n",
      "6it [00:04,  1.30it/s]WARNING:fiona.ogrext:Skipping field liths: invalid type 1\n",
      "7it [00:05,  1.37it/s]WARNING:fiona.ogrext:Skipping field liths: invalid type 1\n",
      "8it [00:06,  1.20it/s]WARNING:fiona.ogrext:Skipping field liths: invalid type 1\n",
      "9it [00:07,  1.21it/s]WARNING:fiona.ogrext:Skipping field liths: invalid type 1\n",
      "11it [00:08,  1.15it/s]WARNING:fiona.ogrext:Skipping field liths: invalid type 1\n",
      "14it [00:11,  1.25it/s]WARNING:fiona.ogrext:Skipping field liths: invalid type 1\n",
      "15it [00:11,  1.28it/s]WARNING:fiona.ogrext:Skipping field liths: invalid type 1\n",
      "16it [00:12,  1.27it/s]WARNING:fiona.ogrext:Skipping field liths: invalid type 1\n",
      "17it [00:13,  1.28it/s]WARNING:fiona.ogrext:Skipping field liths: invalid type 1\n",
      "18it [00:14,  1.21it/s]WARNING:fiona.ogrext:Skipping field liths: invalid type 1\n",
      "19it [00:14,  1.33it/s]WARNING:fiona.ogrext:Skipping field liths: invalid type 1\n",
      "21it [00:16,  1.24it/s]WARNING:fiona.ogrext:Skipping field liths: invalid type 1\n",
      "22it [00:17,  1.27it/s]WARNING:fiona.ogrext:Skipping field liths: invalid type 1\n",
      "23it [00:17,  1.39it/s]WARNING:fiona.ogrext:Skipping field liths: invalid type 1\n",
      "24it [00:18,  1.29it/s]WARNING:fiona.ogrext:Skipping field liths: invalid type 1\n",
      "26it [00:20,  1.36it/s]WARNING:fiona.ogrext:Skipping field liths: invalid type 1\n",
      "28it [00:21,  1.46it/s]WARNING:fiona.ogrext:Skipping field liths: invalid type 1\n",
      "29it [00:22,  1.42it/s]WARNING:fiona.ogrext:Skipping field liths: invalid type 1\n",
      "30it [00:22,  1.41it/s]WARNING:fiona.ogrext:Skipping field liths: invalid type 1\n",
      "32it [00:24,  1.41it/s]WARNING:fiona.ogrext:Skipping field liths: invalid type 1\n",
      "33it [00:25,  1.50it/s]WARNING:fiona.ogrext:Skipping field liths: invalid type 1\n",
      "34it [00:25,  1.57it/s]WARNING:fiona.ogrext:Skipping field liths: invalid type 1\n",
      "35it [00:26,  1.51it/s]WARNING:fiona.ogrext:Skipping field liths: invalid type 1\n",
      "36it [00:27,  1.46it/s]WARNING:fiona.ogrext:Skipping field liths: invalid type 1\n",
      "37it [00:27,  1.51it/s]WARNING:fiona.ogrext:Skipping field liths: invalid type 1\n",
      "38it [00:28,  1.57it/s]WARNING:fiona.ogrext:Skipping field liths: invalid type 1\n",
      "39it [00:28,  1.55it/s]WARNING:fiona.ogrext:Skipping field liths: invalid type 1\n",
      "40it [00:29,  1.46it/s]WARNING:fiona.ogrext:Skipping field liths: invalid type 1\n",
      "42it [00:30,  1.57it/s]WARNING:fiona.ogrext:Skipping field liths: invalid type 1\n",
      "43it [00:31,  1.62it/s]WARNING:fiona.ogrext:Skipping field liths: invalid type 1\n",
      "45it [00:32,  1.59it/s]WARNING:fiona.ogrext:Skipping field liths: invalid type 1\n",
      "46it [00:33,  1.54it/s]WARNING:fiona.ogrext:Skipping field liths: invalid type 1\n",
      "47it [00:34,  1.49it/s]WARNING:fiona.ogrext:Skipping field liths: invalid type 1\n",
      "48it [00:35,  1.25it/s]WARNING:fiona.ogrext:Skipping field liths: invalid type 1\n",
      "49it [00:36,  1.27it/s]WARNING:fiona.ogrext:Skipping field liths: invalid type 1\n",
      "50it [00:36,  1.38it/s]WARNING:fiona.ogrext:Skipping field liths: invalid type 1\n",
      "51it [00:37,  1.47it/s]WARNING:fiona.ogrext:Skipping field liths: invalid type 1\n",
      "53it [00:38,  1.44it/s]WARNING:fiona.ogrext:Skipping field liths: invalid type 1\n",
      "55it [00:40,  1.25it/s]WARNING:fiona.ogrext:Skipping field liths: invalid type 1\n",
      "56it [00:41,  1.10it/s]WARNING:fiona.ogrext:Skipping field liths: invalid type 1\n",
      "57it [00:42,  1.24it/s]WARNING:fiona.ogrext:Skipping field liths: invalid type 1\n",
      "58it [00:42,  1.27it/s]WARNING:fiona.ogrext:Skipping field liths: invalid type 1\n",
      "60it [00:44,  1.26it/s]WARNING:fiona.ogrext:Skipping field liths: invalid type 1\n",
      "61it [00:45,  1.29it/s]WARNING:fiona.ogrext:Skipping field liths: invalid type 1\n",
      "62it [00:45,  1.41it/s]WARNING:fiona.ogrext:Skipping field liths: invalid type 1\n",
      "63it [00:46,  1.51it/s]WARNING:fiona.ogrext:Skipping field liths: invalid type 1\n",
      "64it [00:46,  1.56it/s]WARNING:fiona.ogrext:Skipping field liths: invalid type 1\n",
      "65it [00:47,  1.51it/s]WARNING:fiona.ogrext:Skipping field liths: invalid type 1\n",
      "66it [00:48,  1.47it/s]WARNING:fiona.ogrext:Skipping field liths: invalid type 1\n",
      "67it [00:49,  1.23it/s]WARNING:fiona.ogrext:Skipping field liths: invalid type 1\n",
      "68it [00:50,  1.36it/s]WARNING:fiona.ogrext:Skipping field liths: invalid type 1\n",
      "69it [00:50,  1.36it/s]WARNING:fiona.ogrext:Skipping field liths: invalid type 1\n",
      "70it [00:51,  1.47it/s]WARNING:fiona.ogrext:Skipping field liths: invalid type 1\n",
      "71it [00:51,  1.56it/s]WARNING:fiona.ogrext:Skipping field liths: invalid type 1\n",
      "72it [00:53,  1.23it/s]WARNING:fiona.ogrext:Skipping field liths: invalid type 1\n",
      "73it [00:53,  1.36it/s]WARNING:fiona.ogrext:Skipping field liths: invalid type 1\n",
      "75it [00:55,  1.34it/s]WARNING:fiona.ogrext:Skipping field liths: invalid type 1\n",
      "76it [00:55,  1.45it/s]WARNING:fiona.ogrext:Skipping field liths: invalid type 1\n",
      "77it [00:56,  1.31it/s]WARNING:fiona.ogrext:Skipping field liths: invalid type 1\n",
      "78it [00:57,  1.42it/s]WARNING:fiona.ogrext:Skipping field liths: invalid type 1\n",
      "79it [00:57,  1.52it/s]WARNING:fiona.ogrext:Skipping field liths: invalid type 1\n",
      "80it [00:58,  1.36it/s]WARNING:fiona.ogrext:Skipping field liths: invalid type 1\n",
      "81it [00:59,  1.47it/s]WARNING:fiona.ogrext:Skipping field liths: invalid type 1\n",
      "83it [01:00,  1.35it/s]WARNING:fiona.ogrext:Skipping field liths: invalid type 1\n",
      "84it [01:01,  1.35it/s]WARNING:fiona.ogrext:Skipping field liths: invalid type 1\n",
      "86it [01:03,  1.22it/s]WARNING:fiona.ogrext:Skipping field liths: invalid type 1\n",
      "87it [01:04,  1.22it/s]WARNING:fiona.ogrext:Skipping field liths: invalid type 1\n",
      "88it [01:04,  1.25it/s]WARNING:fiona.ogrext:Skipping field liths: invalid type 1\n",
      "89it [01:05,  1.27it/s]WARNING:fiona.ogrext:Skipping field liths: invalid type 1\n",
      "90it [01:06,  1.39it/s]WARNING:fiona.ogrext:Skipping field liths: invalid type 1\n",
      "91it [01:06,  1.49it/s]WARNING:fiona.ogrext:Skipping field liths: invalid type 1\n",
      "92it [01:07,  1.55it/s]WARNING:fiona.ogrext:Skipping field liths: invalid type 1\n",
      "94it [01:08,  1.53it/s]WARNING:fiona.ogrext:Skipping field liths: invalid type 1\n",
      "95it [01:09,  1.26it/s]WARNING:fiona.ogrext:Skipping field liths: invalid type 1\n",
      "97it [01:11,  1.23it/s]WARNING:fiona.ogrext:Skipping field liths: invalid type 1\n",
      "99it [01:13,  1.12it/s]WARNING:fiona.ogrext:Skipping field liths: invalid type 1\n",
      "100it [01:14,  1.35it/s]\n"
     ]
    }
   ],
   "source": [
    "n = 100\n",
    "lons = np.random.uniform(0., 10, size=n)\n",
    "lats = np.random.uniform(40., 50, size=n)\n",
    "\n",
    "lengths = list()\n",
    "liths = list()\n",
    "\n",
    "from tqdm import tqdm\n",
    "\n",
    "for lng, lat in tqdm(zip(lons, lats)):\n",
    "\n",
    "    draw = get_macrostrat(lng, lat)\n",
    "    lengths.append(len(draw))\n",
    "    liths.append(draw['lith'])\n"
   ]
  },
  {
   "cell_type": "code",
   "execution_count": 39,
   "metadata": {},
   "outputs": [
    {
     "data": {
      "text/plain": [
       "{'minors': ['clay', 'impure carbonate', 'sand'], 'major': 'limestone'}"
      ]
     },
     "execution_count": 39,
     "metadata": {},
     "output_type": "execute_result"
    }
   ],
   "source": [
    "import re\n",
    "\n",
    "\n",
    "line = 'clay [5.0%..50.0%]; impure Carbonate [5.0%..50.0%]; limestone [50.0%..95.0%]; sand [5.0%..50.0%]'\n",
    "get_percentages(line)"
   ]
  },
  {
   "cell_type": "code",
   "execution_count": 45,
   "metadata": {},
   "outputs": [
    {
     "name": "stdout",
     "output_type": "stream",
     "text": [
      "-------------------\n",
      "0               biogenic carbonate rocks and evaporite\n",
      "1    Major:{mica schist}, Minor{marble,amphibolite,...\n",
      "2                                    sedimentary rocks\n",
      "Name: lith, dtype: object\n",
      "{'biogenic': None, 'carbonate': None, 'rocks': None, 'evaporite': None, 'mica schist': 'major', 'marble': 'minor', 'amphibolite': 'minor', 'gneiss': 'minor', 'sedimentary rock': None}\n",
      "-------------------\n",
      "0    basalt group\n",
      "Name: lith, dtype: object\n",
      "{'basalt': None, 'group': None}\n",
      "-------------------\n",
      "0    \n",
      "Name: lith, dtype: object\n",
      "{}\n",
      "-------------------\n",
      "0                                    sedimentary rocks\n",
      "1    carbonateSedimentaryRock [5.0%..50.0%]; chalk ...\n",
      "2             Major:{claystone}, Minor{marl,sandstone}\n",
      "Name: lith, dtype: object\n",
      "{'sedimentary rock': None, 'chalk': 'major', 'carbonatesedimentaryrock': 'minor', 'impure carbonate': 'minor', 'limestone': 'minor', 'sand': 'minor', 'claystone': 'major', 'marl': 'minor', 'sandstone': 'minor'}\n",
      "-------------------\n",
      "0                                    sedimentary rocks\n",
      "1    clay [5.0%..50.0%]; gravel [5.0%..50.0%]; sand...\n",
      "2    Major:{limestone}, Minor{marl,dolomite/dolosto...\n",
      "Name: lith, dtype: object\n",
      "{'sedimentary rock': None, 'sand': 'major', 'clay': 'minor', 'gravel': 'minor', 'limestone': 'major', 'marl': 'minor', 'dolomite/dolostone': 'minor', 'sandstone': 'minor'}\n",
      "-------------------\n",
      "0                                    sedimentary rocks\n",
      "1    clay [5.0%..50.0%]; impure Carbonate [5.0%..50...\n",
      "2    Major:{limestone}, Minor{sandstone,siltstone,m...\n",
      "Name: lith, dtype: object\n",
      "{'sedimentary rock': None, 'limestone': 'major', 'clay': 'minor', 'impure carbonate': 'minor', 'sand': 'minor', 'sandstone': 'minor', 'siltstone': 'minor', 'marl': 'minor'}\n",
      "-------------------\n",
      "0    conglomerate, sandstone, clay and limestone. e...\n",
      "1          Major:{sandstone}, Minor{conglomerate,marl}\n",
      "2                                    sedimentary rocks\n",
      "Name: lith, dtype: object\n",
      "{'conglomerate': 'minor', 'sandstone': 'major', 'clay': None, 'limestone': None, 'evaporites': None, 'marl': 'minor', 'sedimentary rock': None}\n",
      "-------------------\n",
      "0    Major:{sandstone}, Minor{gypsum, anhydrite,cla...\n",
      "1    conglomerate [5.0%..50.0%]; quartzite [5.0%..5...\n",
      "2                              Sandstone, conglomerate\n",
      "3                                    sedimentary rocks\n",
      "Name: lith, dtype: object\n",
      "{'sandstone': 'major', 'gypsum': 'minor', ' anhydrite': 'minor', 'claystone': 'minor', 'conglomerate': 'minor', 'quartzite': 'minor', 'sedimentary rock': None}\n",
      "-------------------\n",
      "0    clay [50.0%..95.0%]; gravel [5.0%..50.0%]; san...\n",
      "1    Major:{limestone}, Minor{sandstone,siltstone,m...\n",
      "2                                    sedimentary rocks\n",
      "Name: lith, dtype: object\n",
      "{'clay': 'major', 'gravel': 'minor', 'sand': 'minor', 'limestone': 'major', 'sandstone': 'minor', 'siltstone': 'minor', 'marl': 'minor', 'sedimentary rock': None}\n",
      "-------------------\n",
      "0    Major:{marl}, Minor{conglomerate,limestone,gyp...\n",
      "1    sandstone, conglomerate, clay; limestone and e...\n",
      "2                                    sedimentary rocks\n",
      "Name: lith, dtype: object\n",
      "{'marl': 'major', 'conglomerate': 'minor', 'limestone': 'minor', 'gypsum': 'minor', 'sandstone': None, 'clay': None, 'evaporites': None, 'sedimentary rock': None}\n",
      "-------------------\n",
      "0    \n",
      "Name: lith, dtype: object\n",
      "{}\n"
     ]
    }
   ],
   "source": [
    "    \n",
    "\n",
    "\n",
    "for i, lith in enumerate(liths):\n",
    "\n",
    "    inst = Lith()\n",
    "    inst = inst.interpret_macrostrat(lith)\n",
    "\n",
    "    if i == 10: break\n",
    "\n",
    "    \n"
   ]
  },
  {
   "cell_type": "code",
   "execution_count": null,
   "metadata": {},
   "outputs": [],
   "source": []
  }
 ],
 "metadata": {
  "kernelspec": {
   "display_name": "Python 3.8.0 64-bit",
   "language": "python",
   "name": "python3"
  },
  "language_info": {
   "codemirror_mode": {
    "name": "ipython",
    "version": 3
   },
   "file_extension": ".py",
   "mimetype": "text/x-python",
   "name": "python",
   "nbconvert_exporter": "python",
   "pygments_lexer": "ipython3",
   "version": "3.8.0"
  },
  "orig_nbformat": 4,
  "vscode": {
   "interpreter": {
    "hash": "ffdb0c89cc842367a93be6eb468afe23766ac3749a570c7a1ecbb8f757cdd35d"
   }
  }
 },
 "nbformat": 4,
 "nbformat_minor": 2
}
